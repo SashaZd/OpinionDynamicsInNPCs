{
 "cells": [
  {
   "cell_type": "code",
   "execution_count": 2,
   "metadata": {
    "collapsed": true
   },
   "outputs": [],
   "source": [
    "%load_ext autoreload\n",
    "%autoreload 2"
   ]
  },
  {
   "cell_type": "code",
   "execution_count": 3,
   "metadata": {
    "collapsed": true
   },
   "outputs": [],
   "source": [
    "from World import World\n",
    "from Knowledge.Article import Article\n",
    "from Knowledge.Source import Source"
   ]
  },
  {
   "cell_type": "code",
   "execution_count": 4,
   "metadata": {
    "collapsed": true
   },
   "outputs": [],
   "source": [
    "world = World()"
   ]
  },
  {
   "cell_type": "code",
   "execution_count": 12,
   "metadata": {
    "collapsed": true
   },
   "outputs": [],
   "source": [
    "topic = world.topics[63]"
   ]
  },
  {
   "cell_type": "code",
   "execution_count": null,
   "metadata": {
    "collapsed": true
   },
   "outputs": [],
   "source": [
    "Article.filter_articles_by_rating(bias)"
   ]
  },
  {
   "cell_type": "code",
   "execution_count": null,
   "metadata": {
    "collapsed": true
   },
   "outputs": [],
   "source": [
    "Article.filter_articles_by_topic(1)"
   ]
  },
  {
   "cell_type": "code",
   "execution_count": 13,
   "metadata": {},
   "outputs": [
    {
     "data": {
      "text/plain": [
       "[<Knowledge.Article.Article at 0x10e8c1c90>,\n",
       " <Knowledge.Article.Article at 0x10e8c1cd0>,\n",
       " <Knowledge.Article.Article at 0x10e8c1d10>,\n",
       " <Knowledge.Article.Article at 0x10e8c1d50>,\n",
       " <Knowledge.Article.Article at 0x10e8c1d90>,\n",
       " <Knowledge.Article.Article at 0x10e8c1dd0>,\n",
       " <Knowledge.Article.Article at 0x10e8c1e10>,\n",
       " <Knowledge.Article.Article at 0x10e8c1e90>,\n",
       " <Knowledge.Article.Article at 0x10e8c1ed0>,\n",
       " <Knowledge.Article.Article at 0x10e8c1f10>,\n",
       " <Knowledge.Article.Article at 0x10e8c1f50>,\n",
       " <Knowledge.Article.Article at 0x10e8c1f90>,\n",
       " <Knowledge.Article.Article at 0x10e8c1fd0>,\n",
       " <Knowledge.Article.Article at 0x10e8ca050>,\n",
       " <Knowledge.Article.Article at 0x10e8ca090>]"
      ]
     },
     "execution_count": 13,
     "metadata": {},
     "output_type": "execute_result"
    }
   ],
   "source": [
    "world.knowledge.filter_articles_by_topic(topic)"
   ]
  },
  {
   "cell_type": "code",
   "execution_count": null,
   "metadata": {
    "collapsed": true
   },
   "outputs": [],
   "source": []
  },
  {
   "cell_type": "code",
   "execution_count": null,
   "metadata": {
    "collapsed": true
   },
   "outputs": [],
   "source": []
  },
  {
   "cell_type": "code",
   "execution_count": null,
   "metadata": {
    "collapsed": true
   },
   "outputs": [],
   "source": []
  },
  {
   "cell_type": "code",
   "execution_count": 6,
   "metadata": {},
   "outputs": [
    {
     "data": {
      "text/plain": [
       "[(1, 28), (63, 15)]"
      ]
     },
     "execution_count": 6,
     "metadata": {},
     "output_type": "execute_result"
    }
   ],
   "source": [
    "from collections import Counter\n",
    "\n",
    "Counter([article.topics[0] for article in world.articles]).items()"
   ]
  },
  {
   "cell_type": "code",
   "execution_count": 8,
   "metadata": {},
   "outputs": [
    {
     "data": {
      "text/plain": [
       "Topic: Media Bias"
      ]
     },
     "execution_count": 8,
     "metadata": {},
     "output_type": "execute_result"
    }
   ],
   "source": [
    "topic"
   ]
  },
  {
   "cell_type": "code",
   "execution_count": null,
   "metadata": {
    "collapsed": true
   },
   "outputs": [],
   "source": []
  }
 ],
 "metadata": {
  "kernelspec": {
   "display_name": "Python 2",
   "language": "python",
   "name": "python2"
  },
  "language_info": {
   "codemirror_mode": {
    "name": "ipython",
    "version": 2
   },
   "file_extension": ".py",
   "mimetype": "text/x-python",
   "name": "python",
   "nbconvert_exporter": "python",
   "pygments_lexer": "ipython2",
   "version": "2.7.13"
  }
 },
 "nbformat": 4,
 "nbformat_minor": 2
}
