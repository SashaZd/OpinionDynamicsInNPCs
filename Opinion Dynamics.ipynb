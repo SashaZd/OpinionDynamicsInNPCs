{
 "cells": [
  {
   "cell_type": "code",
   "execution_count": 1,
   "metadata": {},
   "outputs": [],
   "source": [
    "%load_ext autoreload\n",
    "%autoreload 2"
   ]
  },
  {
   "cell_type": "code",
   "execution_count": 2,
   "metadata": {},
   "outputs": [],
   "source": [
    "from VirtualWorld.World import World\n",
    "from Knowledge.Article import Article\n",
    "from Knowledge.Source import Source"
   ]
  },
  {
   "cell_type": "code",
   "execution_count": 3,
   "metadata": {
    "scrolled": false
   },
   "outputs": [
    {
     "name": "stdout",
     "output_type": "stream",
     "text": [
      "Big Bang!\n",
      "Tanja Akin Bias.CENTER\n",
      "Beatrice Hall Bias.CENTER\n",
      "Anthony Navarro Bias.CENTER\n",
      "William Washinton Bias.CENTER\n",
      "Bruce Christensen Bias.CENTER\n",
      "Peggy Gore Bias.CENTER\n",
      "Connie Perry Bias.CENTER\n",
      "William Smyth Bias.CENTER\n",
      "Lauren Allen Bias.CENTER\n",
      "Michael Coates Bias.CENTER\n",
      "Maria Helms Bias.CENTER\n",
      "Ann Meyer Bias.CENTER\n",
      "Debra Rio Bias.CENTER\n",
      "Jessie Mason Bias.CENTER\n",
      "Lisa Thompson Bias.CENTER\n",
      "Marion Garza Bias.CENTER\n",
      "Virginia Mcclure Bias.CENTER\n",
      "Janice Polley Bias.CENTER\n",
      "Blanche Giambra Bias.CENTER\n",
      "James Sharma Bias.CENTER\n",
      "Brandon Bergman Bias.LEAN_RIGHT\n",
      "Jean Sabin Bias.CENTER\n",
      "Gloria Manion Bias.CENTER\n",
      "Kaitlin Harris Bias.CENTER\n",
      "Dale Frazier Bias.CENTER\n",
      "Mary Morvant Bias.CENTER\n",
      "Samuel Leversee Bias.CENTER\n",
      "Kevin Allen Bias.CENTER\n",
      "William Clark Bias.CENTER\n",
      "Frances Strahl Bias.CENTER\n",
      "Debra Mcdonald Bias.CENTER\n",
      "Jane Quan Bias.CENTER\n",
      "Nancy Zuniga Bias.CENTER\n",
      "Matthew Ennenga Bias.CENTER\n",
      "Francis Tu Bias.CENTER\n",
      "Janet Jones Bias.CENTER\n",
      "Tyler Golden Bias.CENTER\n",
      "Alan Rodriguez Bias.CENTER\n",
      "Mary Sheldon Bias.CENTER\n",
      "James Ly Bias.CENTER\n",
      "Alma Lynch Bias.CENTER\n",
      "Charlotte Larson Bias.CENTER\n",
      "Lela Padilla Bias.CENTER\n",
      "Lauren Rook Bias.CENTER\n",
      "Steve Lozano Bias.CENTER\n",
      "Robert Stogsdill Bias.CENTER\n",
      "William Ludlam Bias.CENTER\n",
      "Marie Dawkins Bias.LEAN_LEFT\n",
      "Randy Heffner Bias.CENTER\n",
      "Erin Drew Bias.CENTER\n"
     ]
    }
   ],
   "source": [
    "world = World()"
   ]
  },
  {
   "cell_type": "code",
   "execution_count": null,
   "metadata": {
    "collapsed": true
   },
   "outputs": [],
   "source": [
    "topic = world.topics[63]\n",
    "world.knowledge.filter_articles_by_topic(topic)"
   ]
  },
  {
   "cell_type": "code",
   "execution_count": null,
   "metadata": {
    "collapsed": true
   },
   "outputs": [],
   "source": [
    "from NPC.Person import Person"
   ]
  },
  {
   "cell_type": "code",
   "execution_count": null,
   "metadata": {
    "collapsed": true
   },
   "outputs": [],
   "source": [
    "Person.living_population"
   ]
  },
  {
   "cell_type": "code",
   "execution_count": null,
   "metadata": {
    "collapsed": true
   },
   "outputs": [],
   "source": [
    "world.towns['Raleigh'].citizens[10].house_number"
   ]
  },
  {
   "cell_type": "code",
   "execution_count": null,
   "metadata": {
    "collapsed": true
   },
   "outputs": [],
   "source": [
    "world.towns['Raleigh'].citizens[10].name"
   ]
  },
  {
   "cell_type": "code",
   "execution_count": null,
   "metadata": {},
   "outputs": [],
   "source": [
    "world.population"
   ]
  },
  {
   "cell_type": "code",
   "execution_count": null,
   "metadata": {},
   "outputs": [],
   "source": [
    "for house in world.towns['Raleigh'].homes.values(): \n",
    "    print(house['family'], house['occupants'])"
   ]
  },
  {
   "cell_type": "code",
   "execution_count": null,
   "metadata": {
    "collapsed": true
   },
   "outputs": [],
   "source": []
  }
 ],
 "metadata": {
  "kernelspec": {
   "display_name": "Python 3",
   "language": "python",
   "name": "python3"
  },
  "language_info": {
   "codemirror_mode": {
    "name": "ipython",
    "version": 3
   },
   "file_extension": ".py",
   "mimetype": "text/x-python",
   "name": "python",
   "nbconvert_exporter": "python",
   "pygments_lexer": "ipython3",
   "version": "3.6.5"
  }
 },
 "nbformat": 4,
 "nbformat_minor": 2
}
