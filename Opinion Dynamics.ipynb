{
 "cells": [
  {
   "cell_type": "code",
   "execution_count": 1,
   "metadata": {},
   "outputs": [],
   "source": [
    "%load_ext autoreload\n",
    "%autoreload 2"
   ]
  },
  {
   "cell_type": "code",
   "execution_count": 2,
   "metadata": {},
   "outputs": [],
   "source": [
    "from VirtualWorld.World import World"
   ]
  },
  {
   "cell_type": "code",
   "execution_count": 3,
   "metadata": {
    "scrolled": false
   },
   "outputs": [
    {
     "name": "stdout",
     "output_type": "stream",
     "text": [
      "Big Bang!\n"
     ]
    }
   ],
   "source": [
    "world = World()"
   ]
  },
  {
   "cell_type": "code",
   "execution_count": 4,
   "metadata": {
    "scrolled": false
   },
   "outputs": [
    {
     "name": "stdout",
     "output_type": "stream",
     "text": [
      "Simulating 6 years\n",
      "Want to adopt, but no such feature in game yet\n",
      "Want to adopt, but no such feature in game yet\n",
      "Want to adopt, but no such feature in game yet\n",
      "Want to adopt, but no such feature in game yet\n",
      "------- Discussion #8 Details --------\n",
      "5 debate participants: #Alicia Rhodes, Roland Clarke, Gladys Stuart, Cathy Mabery, Olivia Levy\n",
      "Discussion on Topic: Immigration\n",
      "Debating merits of article, \"Trump's Justice Department tells court DACA is illegal, but oppose striking it down immediately\" (Source: Washington Times | Bias: LEAN RIGHT).\n",
      "The 5 participants were given the article to read, and 3 rounds to discuss the same.\n",
      "\n",
      "----- FAMILIARITY WITH THE ISSUE -------\n",
      "\n",
      "Alicia Rhodes\n",
      "Current view influenced by reading 2 articles on Topic: Immigration.\n",
      "Current position:-\t attitude: SLIGHTLY LEAN LEFT(-0.25) | opinion: SLIGHTLY LEAN LEFT(-0.25) | uncertainty: 0.0\n",
      "\n",
      "Roland Clarke\n",
      "Current view influenced by reading 6 articles on Topic: Immigration.\n",
      "Current position:-\t attitude: RIGHT(1) | opinion: RIGHT(0.88) | uncertainty: 0.6\n",
      "\n",
      "Gladys Stuart\n",
      "Current view influenced by reading 11 articles on Topic: Immigration.\n",
      "Current position:-\t attitude: LEAN RIGHT(0.5) | opinion: CENTERIST(0.01) | uncertainty: 0.1\n",
      "\n",
      "Cathy Mabery\n",
      "Current view influenced by reading 8 articles on Topic: Immigration.\n",
      "Current position:-\t attitude: LEAN LEFT(-0.5) | opinion: MODERATELY LEFT(-0.78) | uncertainty: 0.04\n",
      "\n",
      "Olivia Levy\n",
      "Current view influenced by reading 9 articles on Topic: Immigration.\n",
      "Current position:-\t attitude: LEAN LEFT(-0.5) | opinion: SLIGHTLY LEAN LEFT(-0.35) | uncertainty: 0.58\n",
      "------------------------------------\n",
      "\n",
      "INSTRUCTION: The participants were asked to read and evaluate the article with its LEAN RIGHT bias.\n",
      "INSTRUCTION: They were asked to publicly declare their opinions on the issue as influenced by the article and any prior familiarity with the issue.\n",
      "--> Alicia Rhodes's response to the article indicated their opinions were CENTERIST (0)\n",
      "--> Roland Clarke's response to the article indicated their opinions were RIGHT (0.88)\n",
      "--> Gladys Stuart's response to the article indicated their opinions were CENTERIST (0.01)\n",
      "--> Cathy Mabery's response to the article indicated their opinions were MODERATELY LEFT (-0.78)\n",
      "--> Olivia Levy's response to the article indicated their opinions were SLIGHTLY LEAN LEFT (-0.35)\n",
      "The participants gave their opening statements to persuade the others to their views.\n",
      "\n",
      "----- Round 1 -----\n",
      "\n",
      "INSTRUCTION: Participants were asked to make a short argument to persuade the other debaters to adopt their position.\n",
      "\n",
      "INSTRUCTION: Participants were asked to select all debaters whose arguments resonated with them.\n",
      "\n",
      "3 groups of like minded individuals formed:\n",
      "--> Cathy Mabery (MODERATELY LEFT:-0.78) and Olivia Levy (SLIGHTLY LEAN LEFT:-0.35) were in accordance\n",
      "--> Alicia Rhodes (CENTERIST:0) and Gladys Stuart (CENTERIST:0.01) were in accordance\n",
      "--> Roland Clarke (RIGHT:0.88) agreed with the article's position \n",
      "\n",
      "### Round Event Summary ###\n",
      "Too many differing opinion groups present. Public Opinion not formed on the matter.\n",
      "Alicia Rhodes decided the group's views were insufficient to change their opinions.\n",
      "\tAlicia did not change their mind.\n",
      "Roland Clarke was swayed by the Article's argument.\n",
      "\tThey decided to change their rating to indicate the same.\n",
      "\tRoland updated their view rating\n",
      "Gladys Stuart was swayed by Alicia Rhodes's argument.\n",
      "\tThey decided to change their rating to indicate the same.\n",
      "\tGladys updated their view rating\n",
      "Cathy Mabery was swayed by Olivia Levy's argument.\n",
      "\tThey decided to change their rating to indicate the same.\n",
      "\tCathy updated their view rating\n",
      "Olivia Levy was swayed by Cathy Mabery's argument.\n",
      "\tThey decided to change their rating to indicate the same.\n",
      "\tOlivia updated their view rating\n",
      "\n",
      "----- Round 2 -----\n",
      "\n",
      "INSTRUCTION: Participants were asked to make a short argument to persuade the other debaters to adopt their position.\n",
      "\n",
      "INSTRUCTION: Participants were asked to select all debaters whose arguments resonated with them.\n",
      "\n",
      "3 groups of like minded individuals formed:\n",
      "--> Cathy Mabery (LEAN LEFT:-0.53) and Olivia Levy (LEAN LEFT:-0.53) were in accordance\n",
      "--> Alicia Rhodes (CENTERIST:0.0) and Gladys Stuart (SLIGHTLY LEAN RIGHT:0.25) agreed the most with each other\n",
      "--> Roland Clarke (MODERATELY RIGHT:0.84) agreed with the article's position \n",
      "\n",
      "### Round Event Summary ###\n",
      "Too many differing opinion groups present. Public Opinion not formed on the matter.\n",
      "Alicia Rhodes was swayed by Gladys Stuart's argument.\n",
      "\tThey decided to change their rating to indicate the same.\n",
      "\tAlicia updated their view rating\n",
      "Roland Clarke was swayed by the Article's argument.\n",
      "\tThey decided to change their rating to indicate the same.\n",
      "\tRoland updated their view rating\n",
      "Gladys Stuart was swayed by Alicia Rhodes's argument.\n",
      "\tThey decided to change their rating to indicate the same.\n",
      "\tGladys updated their view rating\n",
      "Cathy Mabery was swayed by Olivia Levy's argument.\n",
      "\tThey decided to change their rating to indicate the same.\n",
      "\tCathy updated their view rating\n",
      "Olivia Levy was swayed by Cathy Mabery's argument.\n",
      "\tThey decided to change their rating to indicate the same.\n",
      "\tOlivia updated their view rating\n",
      "\n",
      "----- Round 3 -----\n",
      "\n",
      "INSTRUCTION: Participants were asked to make a short argument to persuade the other debaters to adopt their position.\n",
      "\n",
      "INSTRUCTION: Participants were asked to select all debaters whose arguments resonated with them.\n",
      "\n",
      "3 groups of like minded individuals formed:\n",
      "--> Cathy Mabery (LEAN LEFT:-0.52) and Olivia Levy (LEAN LEFT:-0.52) agreed the most with each other\n",
      "--> Alicia Rhodes (CENTERIST:0.06) and Gladys Stuart (SLIGHTLY LEAN RIGHT:0.31) found their views aligned with one another\n",
      "--> Roland Clarke (MODERATELY RIGHT:0.83) agreed with the article's position \n",
      "\n",
      "### Round Event Summary ###\n",
      "Too many differing opinion groups present. Public Opinion not formed on the matter.\n",
      "Alicia Rhodes was swayed by Gladys Stuart's argument.\n",
      "\tThey decided to change their rating to indicate the same.\n",
      "\tAlicia updated their view rating\n",
      "Roland Clarke decided the group's views were insufficient to change their opinions.\n",
      "\tRoland did not change their mind.\n",
      "Gladys Stuart was swayed by Alicia Rhodes's argument.\n",
      "\tThey decided to change their rating to indicate the same.\n",
      "\tGladys updated their view rating\n",
      "Cathy Mabery was swayed by Olivia Levy's argument.\n",
      "\tThey decided to change their rating to indicate the same.\n",
      "\tCathy updated their view rating\n",
      "Olivia Levy was swayed by Cathy Mabery's argument.\n",
      "\tThey decided to change their rating to indicate the same.\n",
      "\tOlivia updated their view rating\n"
     ]
    },
    {
     "ename": "ValueError",
     "evalue": "The number of FixedLocator locations (9), usually from a call to set_ticks, does not match the number of ticklabels (10).",
     "output_type": "error",
     "traceback": [
      "\u001b[0;31m---------------------------------------------------------------------------\u001b[0m",
      "\u001b[0;31mValueError\u001b[0m                                Traceback (most recent call last)",
      "\u001b[0;32m~/Desktop/NCSU/Research/CulturalPropNPC/_Project/OpinionDynamicsInNPCs/VirtualWorld/World.py\u001b[0m in \u001b[0;36mdo_things\u001b[0;34m(self)\u001b[0m\n\u001b[1;32m    121\u001b[0m                         \u001b[0;32mif\u001b[0m \u001b[0mweekday\u001b[0m \u001b[0;34m<=\u001b[0m \u001b[0;36m4\u001b[0m\u001b[0;34m:\u001b[0m\u001b[0;34m\u001b[0m\u001b[0;34m\u001b[0m\u001b[0m\n\u001b[0;32m--> 122\u001b[0;31m                                 \u001b[0mself\u001b[0m\u001b[0;34m.\u001b[0m\u001b[0mgo_to_school\u001b[0m\u001b[0;34m(\u001b[0m\u001b[0;34m)\u001b[0m\u001b[0;34m\u001b[0m\u001b[0;34m\u001b[0m\u001b[0m\n\u001b[0m\u001b[1;32m    123\u001b[0m \u001b[0;34m\u001b[0m\u001b[0m\n",
      "\u001b[0;32m~/Desktop/NCSU/Research/CulturalPropNPC/_Project/OpinionDynamicsInNPCs/VirtualWorld/World.py\u001b[0m in \u001b[0;36mgo_to_school\u001b[0;34m(self)\u001b[0m\n\u001b[1;32m    148\u001b[0m                         \u001b[0;32mif\u001b[0m \u001b[0mrandom\u001b[0m\u001b[0;34m.\u001b[0m\u001b[0mrandom\u001b[0m\u001b[0;34m(\u001b[0m\u001b[0;34m)\u001b[0m \u001b[0;34m>\u001b[0m \u001b[0;36m0.6\u001b[0m\u001b[0;34m:\u001b[0m\u001b[0;34m\u001b[0m\u001b[0;34m\u001b[0m\u001b[0m\n\u001b[0;32m--> 149\u001b[0;31m                                 \u001b[0mschool\u001b[0m\u001b[0;34m.\u001b[0m\u001b[0mteach_students_about_article\u001b[0m\u001b[0;34m(\u001b[0m\u001b[0;34m)\u001b[0m\u001b[0;34m\u001b[0m\u001b[0;34m\u001b[0m\u001b[0m\n\u001b[0m\u001b[1;32m    150\u001b[0m                                 \u001b[0mschool\u001b[0m\u001b[0;34m.\u001b[0m\u001b[0mmembers_interact\u001b[0m\u001b[0;34m(\u001b[0m\u001b[0;34m'classmate_school'\u001b[0m\u001b[0;34m)\u001b[0m\u001b[0;34m\u001b[0m\u001b[0;34m\u001b[0m\u001b[0m\n",
      "\u001b[0;32m~/Desktop/NCSU/Research/CulturalPropNPC/_Project/OpinionDynamicsInNPCs/VirtualWorld/Organization.py\u001b[0m in \u001b[0;36mteach_students_about_article\u001b[0;34m(self, article)\u001b[0m\n\u001b[1;32m    153\u001b[0m                 \u001b[0;31m# print(\"Starting discussion in the school\")\u001b[0m\u001b[0;34m\u001b[0m\u001b[0;34m\u001b[0m\u001b[0;34m\u001b[0m\u001b[0m\n\u001b[0;32m--> 154\u001b[0;31m                 \u001b[0mself\u001b[0m\u001b[0;34m.\u001b[0m\u001b[0mmembers_discuss_article\u001b[0m\u001b[0;34m(\u001b[0m\u001b[0marticle\u001b[0m\u001b[0;34m=\u001b[0m\u001b[0marticle\u001b[0m\u001b[0;34m,\u001b[0m \u001b[0mevent_title\u001b[0m\u001b[0;34m=\u001b[0m\u001b[0mevent_title\u001b[0m\u001b[0;34m)\u001b[0m\u001b[0;34m\u001b[0m\u001b[0;34m\u001b[0m\u001b[0m\n\u001b[0m\u001b[1;32m    155\u001b[0m \u001b[0;34m\u001b[0m\u001b[0m\n",
      "\u001b[0;32m~/Desktop/NCSU/Research/CulturalPropNPC/_Project/OpinionDynamicsInNPCs/VirtualWorld/Organization.py\u001b[0m in \u001b[0;36mmembers_discuss_article\u001b[0;34m(self, article, event_title)\u001b[0m\n\u001b[1;32m     91\u001b[0m                 \u001b[0;32mif\u001b[0m \u001b[0mlen\u001b[0m\u001b[0;34m(\u001b[0m\u001b[0mself\u001b[0m\u001b[0;34m.\u001b[0m\u001b[0mcurrent_members\u001b[0m\u001b[0;34m)\u001b[0m \u001b[0;34m>\u001b[0m \u001b[0;36m1\u001b[0m \u001b[0;32mand\u001b[0m \u001b[0mrandom\u001b[0m\u001b[0;34m.\u001b[0m\u001b[0mrandom\u001b[0m\u001b[0;34m(\u001b[0m\u001b[0;34m)\u001b[0m \u001b[0;34m<\u001b[0m \u001b[0;36m0.2\u001b[0m\u001b[0;34m:\u001b[0m\u001b[0;34m\u001b[0m\u001b[0;34m\u001b[0m\u001b[0m\n\u001b[0;32m---> 92\u001b[0;31m                         \u001b[0mgroup_discussion\u001b[0m \u001b[0;34m=\u001b[0m \u001b[0mGroupDiscussion\u001b[0m\u001b[0;34m(\u001b[0m\u001b[0mworld\u001b[0m\u001b[0;34m=\u001b[0m\u001b[0mself\u001b[0m\u001b[0;34m.\u001b[0m\u001b[0mworld\u001b[0m\u001b[0;34m,\u001b[0m \u001b[0mgroup\u001b[0m\u001b[0;34m=\u001b[0m\u001b[0mself\u001b[0m\u001b[0;34m.\u001b[0m\u001b[0mcurrent_members\u001b[0m\u001b[0;34m,\u001b[0m \u001b[0marticle\u001b[0m\u001b[0;34m=\u001b[0m\u001b[0marticle\u001b[0m\u001b[0;34m,\u001b[0m \u001b[0mdiscussion_type\u001b[0m\u001b[0;34m=\u001b[0m\u001b[0mevent_title\u001b[0m\u001b[0;34m)\u001b[0m\u001b[0;34m\u001b[0m\u001b[0;34m\u001b[0m\u001b[0m\n\u001b[0m\u001b[1;32m     93\u001b[0m                         \u001b[0mself\u001b[0m\u001b[0;34m.\u001b[0m\u001b[0mworld\u001b[0m\u001b[0;34m.\u001b[0m\u001b[0mdiscussions\u001b[0m\u001b[0;34m.\u001b[0m\u001b[0mappend\u001b[0m\u001b[0;34m(\u001b[0m\u001b[0mgroup_discussion\u001b[0m\u001b[0;34m)\u001b[0m\u001b[0;34m\u001b[0m\u001b[0;34m\u001b[0m\u001b[0m\n",
      "\u001b[0;32m~/Desktop/NCSU/Research/CulturalPropNPC/_Project/OpinionDynamicsInNPCs/NPC/Event.py\u001b[0m in \u001b[0;36m__init__\u001b[0;34m(self, world, group, article, discussion_type)\u001b[0m\n\u001b[1;32m    598\u001b[0m \u001b[0;34m\u001b[0m\u001b[0m\n\u001b[0;32m--> 599\u001b[0;31m                 \u001b[0mself\u001b[0m\u001b[0;34m.\u001b[0m\u001b[0mdiscussion\u001b[0m\u001b[0;34m.\u001b[0m\u001b[0mshow_final_change_in_views\u001b[0m\u001b[0;34m(\u001b[0m\u001b[0;34m)\u001b[0m\u001b[0;34m\u001b[0m\u001b[0;34m\u001b[0m\u001b[0m\n\u001b[0m\u001b[1;32m    600\u001b[0m                 \u001b[0mself\u001b[0m\u001b[0;34m.\u001b[0m\u001b[0mnew_views\u001b[0m \u001b[0;34m=\u001b[0m \u001b[0mself\u001b[0m\u001b[0;34m.\u001b[0m\u001b[0mdiscussion\u001b[0m\u001b[0;34m.\u001b[0m\u001b[0mget_views\u001b[0m\u001b[0;34m(\u001b[0m\u001b[0;34m)\u001b[0m\u001b[0;34m\u001b[0m\u001b[0;34m\u001b[0m\u001b[0m\n",
      "\u001b[0;32m~/Desktop/NCSU/Research/CulturalPropNPC/_Project/OpinionDynamicsInNPCs/Knowledge/Discussion.py\u001b[0m in \u001b[0;36mshow_final_change_in_views\u001b[0;34m(self)\u001b[0m\n\u001b[1;32m    533\u001b[0m                 \u001b[0mself\u001b[0m\u001b[0;34m.\u001b[0m\u001b[0mviews\u001b[0m \u001b[0;34m=\u001b[0m \u001b[0mself\u001b[0m\u001b[0;34m.\u001b[0m\u001b[0madjust_unc\u001b[0m\u001b[0;34m(\u001b[0m\u001b[0mviews\u001b[0m\u001b[0;34m)\u001b[0m\u001b[0;34m\u001b[0m\u001b[0;34m\u001b[0m\u001b[0m\n\u001b[0;32m--> 534\u001b[0;31m                 \u001b[0mself\u001b[0m\u001b[0;34m.\u001b[0m\u001b[0mplot_chart_ops\u001b[0m\u001b[0;34m(\u001b[0m\u001b[0;34m)\u001b[0m\u001b[0;34m\u001b[0m\u001b[0;34m\u001b[0m\u001b[0m\n\u001b[0m\u001b[1;32m    535\u001b[0m                 \u001b[0;31m# print(\"\\nOverall Change: Old View \\t--> New_Views\")\u001b[0m\u001b[0;34m\u001b[0m\u001b[0;34m\u001b[0m\u001b[0;34m\u001b[0m\u001b[0m\n",
      "\u001b[0;32m~/Desktop/NCSU/Research/CulturalPropNPC/_Project/OpinionDynamicsInNPCs/Knowledge/Discussion.py\u001b[0m in \u001b[0;36mplot_chart_ops\u001b[0;34m(self)\u001b[0m\n\u001b[1;32m    573\u001b[0m                 \u001b[0mplt\u001b[0m\u001b[0;34m.\u001b[0m\u001b[0mxticks\u001b[0m\u001b[0;34m(\u001b[0m\u001b[0mnp\u001b[0m\u001b[0;34m.\u001b[0m\u001b[0marange\u001b[0m\u001b[0;34m(\u001b[0m\u001b[0;36m0\u001b[0m\u001b[0;34m,\u001b[0m \u001b[0mmax\u001b[0m\u001b[0;34m(\u001b[0m\u001b[0mrounds\u001b[0m\u001b[0;34m)\u001b[0m \u001b[0;34m+\u001b[0m \u001b[0;36m1\u001b[0m\u001b[0;34m,\u001b[0m \u001b[0;36m1\u001b[0m\u001b[0;34m)\u001b[0m\u001b[0;34m)\u001b[0m\u001b[0;34m\u001b[0m\u001b[0;34m\u001b[0m\u001b[0m\n\u001b[0;32m--> 574\u001b[0;31m                 \u001b[0mplt\u001b[0m\u001b[0;34m.\u001b[0m\u001b[0myticks\u001b[0m\u001b[0;34m(\u001b[0m\u001b[0mnp\u001b[0m\u001b[0;34m.\u001b[0m\u001b[0marange\u001b[0m\u001b[0;34m(\u001b[0m\u001b[0;34m-\u001b[0m\u001b[0;36m1.25\u001b[0m\u001b[0;34m,\u001b[0m \u001b[0;36m1.0\u001b[0m\u001b[0;34m,\u001b[0m \u001b[0;36m0.25\u001b[0m\u001b[0;34m)\u001b[0m\u001b[0;34m,\u001b[0m \u001b[0;34m(\u001b[0m\u001b[0;34m'Left'\u001b[0m\u001b[0;34m,\u001b[0m \u001b[0;34m'Moderately Left'\u001b[0m\u001b[0;34m,\u001b[0m \u001b[0;34m'Lean Left'\u001b[0m\u001b[0;34m,\u001b[0m \u001b[0;34m'Slightly Lean Left'\u001b[0m\u001b[0;34m,\u001b[0m \u001b[0;34m'Centrist'\u001b[0m\u001b[0;34m,\u001b[0m \u001b[0;34m'Slightly Lean Right'\u001b[0m\u001b[0;34m,\u001b[0m \u001b[0;34m'Lean Right'\u001b[0m\u001b[0;34m,\u001b[0m \u001b[0;34m'Moderately Right'\u001b[0m\u001b[0;34m,\u001b[0m \u001b[0;34m'Right'\u001b[0m\u001b[0;34m,\u001b[0m \u001b[0;34m'Hidden'\u001b[0m\u001b[0;34m)\u001b[0m\u001b[0;34m)\u001b[0m\u001b[0;34m\u001b[0m\u001b[0;34m\u001b[0m\u001b[0m\n\u001b[0m\u001b[1;32m    575\u001b[0m                 \u001b[0;32mfor\u001b[0m \u001b[0mperson\u001b[0m \u001b[0;32min\u001b[0m \u001b[0mself\u001b[0m\u001b[0;34m.\u001b[0m\u001b[0mparticipants\u001b[0m\u001b[0;34m[\u001b[0m\u001b[0;34m:\u001b[0m\u001b[0;34m-\u001b[0m\u001b[0;36m1\u001b[0m\u001b[0;34m]\u001b[0m\u001b[0;34m:\u001b[0m\u001b[0;34m\u001b[0m\u001b[0;34m\u001b[0m\u001b[0m\n",
      "\u001b[0;32m/usr/local/lib/python3.8/site-packages/matplotlib/pyplot.py\u001b[0m in \u001b[0;36myticks\u001b[0;34m(ticks, labels, **kwargs)\u001b[0m\n\u001b[1;32m   1702\u001b[0m     \u001b[0;32melse\u001b[0m\u001b[0;34m:\u001b[0m\u001b[0;34m\u001b[0m\u001b[0;34m\u001b[0m\u001b[0m\n\u001b[0;32m-> 1703\u001b[0;31m         \u001b[0mlabels\u001b[0m \u001b[0;34m=\u001b[0m \u001b[0max\u001b[0m\u001b[0;34m.\u001b[0m\u001b[0mset_yticklabels\u001b[0m\u001b[0;34m(\u001b[0m\u001b[0mlabels\u001b[0m\u001b[0;34m,\u001b[0m \u001b[0;34m**\u001b[0m\u001b[0mkwargs\u001b[0m\u001b[0;34m)\u001b[0m\u001b[0;34m\u001b[0m\u001b[0;34m\u001b[0m\u001b[0m\n\u001b[0m\u001b[1;32m   1704\u001b[0m     \u001b[0;32mfor\u001b[0m \u001b[0ml\u001b[0m \u001b[0;32min\u001b[0m \u001b[0mlabels\u001b[0m\u001b[0;34m:\u001b[0m\u001b[0;34m\u001b[0m\u001b[0;34m\u001b[0m\u001b[0m\n",
      "\u001b[0;32m/usr/local/lib/python3.8/site-packages/matplotlib/axes/_base.py\u001b[0m in \u001b[0;36mwrapper\u001b[0;34m(self, *args, **kwargs)\u001b[0m\n\u001b[1;32m     62\u001b[0m         \u001b[0;32mdef\u001b[0m \u001b[0mwrapper\u001b[0m\u001b[0;34m(\u001b[0m\u001b[0mself\u001b[0m\u001b[0;34m,\u001b[0m \u001b[0;34m*\u001b[0m\u001b[0margs\u001b[0m\u001b[0;34m,\u001b[0m \u001b[0;34m**\u001b[0m\u001b[0mkwargs\u001b[0m\u001b[0;34m)\u001b[0m\u001b[0;34m:\u001b[0m\u001b[0;34m\u001b[0m\u001b[0;34m\u001b[0m\u001b[0m\n\u001b[0;32m---> 63\u001b[0;31m             \u001b[0;32mreturn\u001b[0m \u001b[0mget_method\u001b[0m\u001b[0;34m(\u001b[0m\u001b[0mself\u001b[0m\u001b[0;34m)\u001b[0m\u001b[0;34m(\u001b[0m\u001b[0;34m*\u001b[0m\u001b[0margs\u001b[0m\u001b[0;34m,\u001b[0m \u001b[0;34m**\u001b[0m\u001b[0mkwargs\u001b[0m\u001b[0;34m)\u001b[0m\u001b[0;34m\u001b[0m\u001b[0;34m\u001b[0m\u001b[0m\n\u001b[0m\u001b[1;32m     64\u001b[0m \u001b[0;34m\u001b[0m\u001b[0m\n",
      "\u001b[0;32m/usr/local/lib/python3.8/site-packages/matplotlib/cbook/deprecation.py\u001b[0m in \u001b[0;36mwrapper\u001b[0;34m(*args, **kwargs)\u001b[0m\n\u001b[1;32m    450\u001b[0m                 name=name, obj_type=f\"parameter of {func.__name__}()\")\n\u001b[0;32m--> 451\u001b[0;31m         \u001b[0;32mreturn\u001b[0m \u001b[0mfunc\u001b[0m\u001b[0;34m(\u001b[0m\u001b[0;34m*\u001b[0m\u001b[0margs\u001b[0m\u001b[0;34m,\u001b[0m \u001b[0;34m**\u001b[0m\u001b[0mkwargs\u001b[0m\u001b[0;34m)\u001b[0m\u001b[0;34m\u001b[0m\u001b[0;34m\u001b[0m\u001b[0m\n\u001b[0m\u001b[1;32m    452\u001b[0m \u001b[0;34m\u001b[0m\u001b[0m\n",
      "\u001b[0;32m/usr/local/lib/python3.8/site-packages/matplotlib/axis.py\u001b[0m in \u001b[0;36m_set_ticklabels\u001b[0;34m(self, labels, fontdict, minor, **kwargs)\u001b[0m\n\u001b[1;32m   1792\u001b[0m             \u001b[0mkwargs\u001b[0m\u001b[0;34m.\u001b[0m\u001b[0mupdate\u001b[0m\u001b[0;34m(\u001b[0m\u001b[0mfontdict\u001b[0m\u001b[0;34m)\u001b[0m\u001b[0;34m\u001b[0m\u001b[0;34m\u001b[0m\u001b[0m\n\u001b[0;32m-> 1793\u001b[0;31m         \u001b[0;32mreturn\u001b[0m \u001b[0mself\u001b[0m\u001b[0;34m.\u001b[0m\u001b[0mset_ticklabels\u001b[0m\u001b[0;34m(\u001b[0m\u001b[0mlabels\u001b[0m\u001b[0;34m,\u001b[0m \u001b[0mminor\u001b[0m\u001b[0;34m=\u001b[0m\u001b[0mminor\u001b[0m\u001b[0;34m,\u001b[0m \u001b[0;34m**\u001b[0m\u001b[0mkwargs\u001b[0m\u001b[0;34m)\u001b[0m\u001b[0;34m\u001b[0m\u001b[0;34m\u001b[0m\u001b[0m\n\u001b[0m\u001b[1;32m   1794\u001b[0m \u001b[0;34m\u001b[0m\u001b[0m\n",
      "\u001b[0;32m/usr/local/lib/python3.8/site-packages/matplotlib/axis.py\u001b[0m in \u001b[0;36mset_ticklabels\u001b[0;34m(self, ticklabels, minor, **kwargs)\u001b[0m\n\u001b[1;32m   1713\u001b[0m             \u001b[0;32mif\u001b[0m \u001b[0mlen\u001b[0m\u001b[0;34m(\u001b[0m\u001b[0mlocator\u001b[0m\u001b[0;34m.\u001b[0m\u001b[0mlocs\u001b[0m\u001b[0;34m)\u001b[0m \u001b[0;34m!=\u001b[0m \u001b[0mlen\u001b[0m\u001b[0;34m(\u001b[0m\u001b[0mticklabels\u001b[0m\u001b[0;34m)\u001b[0m \u001b[0;32mand\u001b[0m \u001b[0mlen\u001b[0m\u001b[0;34m(\u001b[0m\u001b[0mticklabels\u001b[0m\u001b[0;34m)\u001b[0m \u001b[0;34m!=\u001b[0m \u001b[0;36m0\u001b[0m\u001b[0;34m:\u001b[0m\u001b[0;34m\u001b[0m\u001b[0;34m\u001b[0m\u001b[0m\n\u001b[0;32m-> 1714\u001b[0;31m                 raise ValueError(\n\u001b[0m\u001b[1;32m   1715\u001b[0m                     \u001b[0;34m\"The number of FixedLocator locations\"\u001b[0m\u001b[0;34m\u001b[0m\u001b[0;34m\u001b[0m\u001b[0m\n",
      "\u001b[0;31mValueError\u001b[0m: The number of FixedLocator locations (9), usually from a call to set_ticks, does not match the number of ticklabels (10).",
      "\nThe above exception was the direct cause of the following exception:\n",
      "\u001b[0;31mValueError\u001b[0m                                Traceback (most recent call last)",
      "\u001b[0;32m<ipython-input-4-14ffcb5d14c8>\u001b[0m in \u001b[0;36m<module>\u001b[0;34m\u001b[0m\n\u001b[0;32m----> 1\u001b[0;31m \u001b[0mworld\u001b[0m\u001b[0;34m.\u001b[0m\u001b[0msimulate_time\u001b[0m\u001b[0;34m(\u001b[0m\u001b[0;36m6\u001b[0m\u001b[0;34m)\u001b[0m\u001b[0;34m\u001b[0m\u001b[0;34m\u001b[0m\u001b[0m\n\u001b[0m",
      "\u001b[0;32m~/Desktop/NCSU/Research/CulturalPropNPC/_Project/OpinionDynamicsInNPCs/VirtualWorld/World.py\u001b[0m in \u001b[0;36msimulate_time\u001b[0;34m(self, years)\u001b[0m\n\u001b[1;32m    199\u001b[0m                 \u001b[0mself\u001b[0m\u001b[0;34m.\u001b[0m\u001b[0menv\u001b[0m \u001b[0;34m=\u001b[0m \u001b[0msimpy\u001b[0m\u001b[0;34m.\u001b[0m\u001b[0mEnvironment\u001b[0m\u001b[0;34m(\u001b[0m\u001b[0;34m)\u001b[0m\u001b[0;34m\u001b[0m\u001b[0;34m\u001b[0m\u001b[0m\n\u001b[1;32m    200\u001b[0m                 \u001b[0mself\u001b[0m\u001b[0;34m.\u001b[0m\u001b[0menv\u001b[0m\u001b[0;34m.\u001b[0m\u001b[0mprocess\u001b[0m\u001b[0;34m(\u001b[0m\u001b[0mself\u001b[0m\u001b[0;34m.\u001b[0m\u001b[0mdo_things\u001b[0m\u001b[0;34m(\u001b[0m\u001b[0;34m)\u001b[0m\u001b[0;34m)\u001b[0m\u001b[0;34m\u001b[0m\u001b[0;34m\u001b[0m\u001b[0m\n\u001b[0;32m--> 201\u001b[0;31m                 \u001b[0mself\u001b[0m\u001b[0;34m.\u001b[0m\u001b[0menv\u001b[0m\u001b[0;34m.\u001b[0m\u001b[0mrun\u001b[0m\u001b[0;34m(\u001b[0m\u001b[0muntil\u001b[0m\u001b[0;34m=\u001b[0m\u001b[0;36m365\u001b[0m \u001b[0;34m*\u001b[0m \u001b[0myears\u001b[0m\u001b[0;34m)\u001b[0m\u001b[0;34m\u001b[0m\u001b[0;34m\u001b[0m\u001b[0m\n\u001b[0m\u001b[1;32m    202\u001b[0m \u001b[0;34m\u001b[0m\u001b[0m\n\u001b[1;32m    203\u001b[0m \u001b[0;34m\u001b[0m\u001b[0m\n",
      "\u001b[0;32m/usr/local/lib/python3.8/site-packages/simpy/core.py\u001b[0m in \u001b[0;36mrun\u001b[0;34m(self, until)\u001b[0m\n\u001b[1;32m    252\u001b[0m         \u001b[0;32mtry\u001b[0m\u001b[0;34m:\u001b[0m\u001b[0;34m\u001b[0m\u001b[0;34m\u001b[0m\u001b[0m\n\u001b[1;32m    253\u001b[0m             \u001b[0;32mwhile\u001b[0m \u001b[0;32mTrue\u001b[0m\u001b[0;34m:\u001b[0m\u001b[0;34m\u001b[0m\u001b[0;34m\u001b[0m\u001b[0m\n\u001b[0;32m--> 254\u001b[0;31m                 \u001b[0mself\u001b[0m\u001b[0;34m.\u001b[0m\u001b[0mstep\u001b[0m\u001b[0;34m(\u001b[0m\u001b[0;34m)\u001b[0m\u001b[0;34m\u001b[0m\u001b[0;34m\u001b[0m\u001b[0m\n\u001b[0m\u001b[1;32m    255\u001b[0m         \u001b[0;32mexcept\u001b[0m \u001b[0mStopSimulation\u001b[0m \u001b[0;32mas\u001b[0m \u001b[0mexc\u001b[0m\u001b[0;34m:\u001b[0m\u001b[0;34m\u001b[0m\u001b[0;34m\u001b[0m\u001b[0m\n\u001b[1;32m    256\u001b[0m             \u001b[0;32mreturn\u001b[0m \u001b[0mexc\u001b[0m\u001b[0;34m.\u001b[0m\u001b[0margs\u001b[0m\u001b[0;34m[\u001b[0m\u001b[0;36m0\u001b[0m\u001b[0;34m]\u001b[0m  \u001b[0;31m# == until.value\u001b[0m\u001b[0;34m\u001b[0m\u001b[0;34m\u001b[0m\u001b[0m\n",
      "\u001b[0;32m/usr/local/lib/python3.8/site-packages/simpy/core.py\u001b[0m in \u001b[0;36mstep\u001b[0;34m(self)\u001b[0m\n\u001b[1;32m    204\u001b[0m             \u001b[0mexc\u001b[0m \u001b[0;34m=\u001b[0m \u001b[0mtype\u001b[0m\u001b[0;34m(\u001b[0m\u001b[0mevent\u001b[0m\u001b[0;34m.\u001b[0m\u001b[0m_value\u001b[0m\u001b[0;34m)\u001b[0m\u001b[0;34m(\u001b[0m\u001b[0;34m*\u001b[0m\u001b[0mevent\u001b[0m\u001b[0;34m.\u001b[0m\u001b[0m_value\u001b[0m\u001b[0;34m.\u001b[0m\u001b[0margs\u001b[0m\u001b[0;34m)\u001b[0m\u001b[0;34m\u001b[0m\u001b[0;34m\u001b[0m\u001b[0m\n\u001b[1;32m    205\u001b[0m             \u001b[0mexc\u001b[0m\u001b[0;34m.\u001b[0m\u001b[0m__cause__\u001b[0m \u001b[0;34m=\u001b[0m \u001b[0mevent\u001b[0m\u001b[0;34m.\u001b[0m\u001b[0m_value\u001b[0m\u001b[0;34m\u001b[0m\u001b[0;34m\u001b[0m\u001b[0m\n\u001b[0;32m--> 206\u001b[0;31m             \u001b[0;32mraise\u001b[0m \u001b[0mexc\u001b[0m\u001b[0;34m\u001b[0m\u001b[0;34m\u001b[0m\u001b[0m\n\u001b[0m\u001b[1;32m    207\u001b[0m \u001b[0;34m\u001b[0m\u001b[0m\n\u001b[1;32m    208\u001b[0m     def run(\n",
      "\u001b[0;31mValueError\u001b[0m: The number of FixedLocator locations (9), usually from a call to set_ticks, does not match the number of ticklabels (10)."
     ]
    },
    {
     "data": {
      "image/png": "[encoded data removed]",
      "text/plain": [
       "<Figure size 720x720 with 1 Axes>"
      ]
     },
     "metadata": {
      "needs_background": "light"
     },
     "output_type": "display_data"
    }
   ],
   "source": [
    "world.simulate_time(6)"
   ]
  },
  {
   "cell_type": "code",
   "execution_count": 11,
   "metadata": {
    "scrolled": false
   },
   "outputs": [
    {
     "data": {
      "text/plain": [
       "(array([0. , 0.1, 0.2, 0.3, 0.4, 0.5, 0.6, 0.7, 0.8, 0.9, 1. ]),\n",
       " ('0.0', '0.1', '0.2', '0.3', '0.4', '0.5', '0.6', '0.7', '0.8', '0.9', '1.0'))"
      ]
     },
     "execution_count": 11,
     "metadata": {},
     "output_type": "execute_result"
    }
   ],
   "source": [
    "import numpy as np\n",
    "np.arange(0, 1.10, 0.10), ('0.0', '0.1', '0.2', '0.3', '0.4', '0.5', '0.6', '0.7', '0.8', '0.9', '1.0')"
   ]
  },
  {
   "cell_type": "code",
   "execution_count": null,
   "metadata": {},
   "outputs": [],
   "source": []
  },
  {
   "cell_type": "code",
   "execution_count": null,
   "metadata": {},
   "outputs": [],
   "source": []
  },
  {
   "cell_type": "code",
   "execution_count": null,
   "metadata": {},
   "outputs": [],
   "source": [
    "# Discussion 1 \n",
    "opinions = [0.33, 0.55, -0.64, -0.18]\n",
    "participants = [\"Ada Lawson\", \"Johnnie Helm\", \"Ashley Thurston\",\"Helga Bass\"]\n",
    "\n",
    "# Discussion 2\n",
    "# participants = [\"Shirley Johnson\", \"Mary Lindhorst\", \"James Pease\"]\n",
    "# opinions = [1, -1, 0.34]\n",
    "\n",
    "# Discussion 3 \n",
    "# opinions = [0.85, 0.73, -0.11, 0.70, -0.08, -0.01, 0.58, -0.95, 0.93]\n",
    "# participants = [\"Angelo\", \"Josephine\", \"Juan\", \"Karen\", \"Kathleen\", \"Kevin\", \"Lashawna\", \"Patrice\", \"Sarah\"]\n",
    "\n",
    "# Discussion 4\n",
    "# participants = [\"Norma Garner\", \"Kenneth Lyman\", \"William Mahaffey-Cochran\", \"Amy Welsh\", \"Edward Moore\"]\n",
    "# opinions = [0.78, -1, 0.04, -0.21, 1]\n",
    "\n",
    "op_np = np.zeros((len(opinions), 2))\n",
    "for index, op in enumerate(opinions): \n",
    "    op_np[index, 0] = op"
   ]
  },
  {
   "cell_type": "code",
   "execution_count": null,
   "metadata": {},
   "outputs": [],
   "source": [
    "import numpy as np\n",
    "from statistics import mean\n",
    "from collections import defaultdict\n",
    "import jenkspy\n",
    "import numpy as np\n",
    "\n",
    "def find_best_grouping_of_opinions():\n",
    "    def small_grouping_opinions():\n",
    "        opinions.sort()\n",
    "        maximumGap = 0\n",
    "        split = 0\n",
    "\n",
    "        for i in range(len(opinions) - 1):\n",
    "            if(maximumGap < (opinions[i + 1] - opinions[i])):\n",
    "                maximumGap = opinions[i + 1] - opinions[i]\n",
    "                split = opinions[i]\n",
    "        groups = [[num for num in opinions if num <= split], [num for num in opinions if num > split]]\n",
    "        opinion_grouping = defaultdict(list)\n",
    "        participant_grouping = defaultdict(list)\n",
    "        for group in groups:\n",
    "            if len(group) > 0: \n",
    "                mean_group = round(mean(group), 2) \n",
    "                opinion_grouping[mean_group] = group\n",
    "                for index, op in enumerate(opinions): \n",
    "                    if op in group: \n",
    "                        person = participants[index]\n",
    "                        participant_grouping[mean_group].append(participants[index])\n",
    "                        \n",
    "        return opinion_grouping, participant_grouping\n",
    "\n",
    "    def get_classified_ops(zone_indices, show_participants=False):\n",
    "        if not show_participants: \n",
    "            array_sort = [np.array([opinions[index] for index in zone]) for zone in zone_indices if zone]\n",
    "            return array_sort\n",
    "\n",
    "        else:\n",
    "            array_sort = [[opinions[index] for index in zone] for zone in zone_indices if zone]\n",
    "            participants_sort = [[participants[index] for index in zone] for zone in zone_indices if zone]\n",
    "\n",
    "            opinion_grouping = defaultdict(list)\n",
    "            participant_grouping = defaultdict(list)\n",
    "            \n",
    "            for index, zone in enumerate([zone for zone in array_sort]): \n",
    "                mean_op = round(mean(zone), 2)\n",
    "                opinion_grouping[mean_op] = [op for op in zone]\n",
    "                participant_grouping[mean_op] = participants_sort[index]\n",
    "\n",
    "            return [opinion_grouping, participant_grouping]\n",
    "\n",
    "\n",
    "    def goodness_of_variance_fit(nclasses):\n",
    "\n",
    "        # Breaks will include the min/max of the data \n",
    "        # 3 is the min num_classes that is taken into the breaks --> i.e. produces 2 classes \n",
    "        classes = jenkspy.jenks_breaks(opinions, nb_class=nclasses)\n",
    "        classified = np.array([classify(i, classes) for i in opinions])\n",
    "        maxz = max(classified)\n",
    "        zone_indices = [[idx for idx, val in enumerate(classified) if zone + 1 == val] for zone in range(maxz)]\n",
    "\n",
    "        array_sort = get_classified_ops(zone_indices)\n",
    "        sdam = np.sum((opinions - np.mean(opinions)) ** 2)\n",
    "        sdcm = sum([np.sum((classified - classified.mean()) ** 2) for classified in array_sort])\n",
    "        gvf = (sdam - sdcm) / sdam\n",
    "\n",
    "        return gvf, zone_indices\n",
    "\n",
    "    def classify(value, breaks):\n",
    "        for i in range(1, len(breaks)):\n",
    "            if value <= breaks[i]:\n",
    "                return i\n",
    "        return len(breaks) - 1\n",
    "\n",
    "\n",
    "    gvf = 0.0\n",
    "    nclasses = 2\n",
    "\n",
    "    if len(opinions) <= 3:\n",
    "        return small_grouping_opinions()\n",
    "        \n",
    "    # Goodness of fit set to 0.9\n",
    "    best_gvf = 0.0\n",
    "    best_zone_indices = None\n",
    "    while nclasses < len(opinions) and gvf < 0.9:\n",
    "        gvf, zone_indices = goodness_of_variance_fit(nclasses)\n",
    "        if gvf > best_gvf: \n",
    "            best_gvf = gvf\n",
    "            best_zone_indices = zone_indices\n",
    "            print(best_gvf, get_classified_ops(best_zone_indices, show_participants=True)[1].values())\n",
    "\n",
    "        nclasses += 1\n",
    "        \n",
    "    return get_classified_ops(best_zone_indices, show_participants=True)"
   ]
  },
  {
   "cell_type": "code",
   "execution_count": null,
   "metadata": {},
   "outputs": [],
   "source": [
    "find_best_grouping_of_opinions()"
   ]
  },
  {
   "cell_type": "code",
   "execution_count": null,
   "metadata": {
    "scrolled": false
   },
   "outputs": [],
   "source": []
  },
  {
   "cell_type": "code",
   "execution_count": null,
   "metadata": {},
   "outputs": [],
   "source": []
  },
  {
   "cell_type": "code",
   "execution_count": null,
   "metadata": {},
   "outputs": [],
   "source": []
  },
  {
   "cell_type": "code",
   "execution_count": null,
   "metadata": {},
   "outputs": [],
   "source": []
  },
  {
   "cell_type": "code",
   "execution_count": null,
   "metadata": {},
   "outputs": [],
   "source": []
  },
  {
   "cell_type": "code",
   "execution_count": null,
   "metadata": {},
   "outputs": [],
   "source": []
  },
  {
   "cell_type": "code",
   "execution_count": null,
   "metadata": {},
   "outputs": [],
   "source": []
  },
  {
   "cell_type": "code",
   "execution_count": null,
   "metadata": {},
   "outputs": [],
   "source": []
  },
  {
   "cell_type": "code",
   "execution_count": null,
   "metadata": {},
   "outputs": [],
   "source": []
  },
  {
   "cell_type": "code",
   "execution_count": null,
   "metadata": {},
   "outputs": [],
   "source": []
  },
  {
   "cell_type": "code",
   "execution_count": null,
   "metadata": {},
   "outputs": [],
   "source": []
  }
 ],
 "metadata": {
  "kernelspec": {
   "display_name": "Python 3",
   "language": "python",
   "name": "python3"
  },
  "language_info": {
   "codemirror_mode": {
    "name": "ipython",
    "version": 3
   },
   "file_extension": ".py",
   "mimetype": "text/x-python",
   "name": "python",
   "nbconvert_exporter": "python",
   "pygments_lexer": "ipython3",
   "version": "3.8.5"
  }
 },
 "nbformat": 4,
 "nbformat_minor": 2
}
